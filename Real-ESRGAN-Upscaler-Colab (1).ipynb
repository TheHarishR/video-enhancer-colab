{
 "cells": [
  {
   "cell_type": "markdown",
   "id": "496f8b86",
   "metadata": {},
   "source": [
    "# 🎥 Real-ESRGAN Video Upscaler\n",
    "This notebook allows you to upload a low-quality video, enhance it using Real-ESRGAN, and download the final version with audio preserved."
   ]
  },
  {
   "cell_type": "code",
   "execution_count": null,
   "id": "2d6007a6",
   "metadata": {},
   "outputs": [],
   "source": [
    "#@title 🛠️ Setup\n",
    "!git clone https://github.com/xinntao/Real-ESRGAN.git\n",
    "%cd Real-ESRGAN\n",
    "!pip -q install basicsr facexlib gfpgan\n",
    "!pip -q install -r requirements.txt\n",
    "!python setup.py develop\n",
    "!pip install torch==2.1.0 torchvision==0.16.0 --index-url https://download.pytorch.org/whl/cu118\n",
    "!pip install \"numpy<2.0\"\n"
   ]
  },
  {
   "cell_type": "code",
   "execution_count": null,
   "id": "2143c710",
   "metadata": {},
   "outputs": [],
   "source": [
    "#@title 📤 Upload Video\n",
    "from google.colab import files\n",
    "import shutil\n",
    "uploaded = files.upload()\n",
    "video_path = \"input.mp4\"\n",
    "for name in uploaded.keys():\n",
    "    shutil.move(name, video_path)\n",
    "print(f\"✅ Uploaded video saved as {video_path}\")\n"
   ]
  },
  {
   "cell_type": "code",
   "execution_count": null,
   "id": "be2c0a65",
   "metadata": {},
   "outputs": [],
   "source": [
    "#@title 🖼️ Extract Frames\n",
    "import cv2, os\n",
    "frames_dir = 'input_frames'\n",
    "os.makedirs(frames_dir, exist_ok=True)\n",
    "cap = cv2.VideoCapture(video_path)\n",
    "frame_count = 0\n",
    "while cap.isOpened():\n",
    "    ret, frame = cap.read()\n",
    "    if not ret:\n",
    "        break\n",
    "    frame_path = os.path.join(frames_dir, f\"{frame_count:05d}.png\")\n",
    "    cv2.imwrite(frame_path, frame)\n",
    "    frame_count += 1\n",
    "cap.release()\n",
    "print(f\"🖼️ Extracted {frame_count} frames to '{frames_dir}'\")\n"
   ]
  },
  {
   "cell_type": "markdown",
   "id": "a710a72b",
   "metadata": {},
   "source": [
    "> ✅ Now manually run Real-ESRGAN on extracted frames OR set output folder below."
   ]
  },
  {
   "cell_type": "code",
   "execution_count": null,
   "id": "3d665f66",
   "metadata": {},
   "outputs": [],
   "source": [
    "#@title 🧪 Combine Upscaled Frames\n",
    "import glob\n",
    "output_folder = 'results'\n",
    "upscaled_frames = sorted(glob.glob(os.path.join(output_folder, '*.png')))\n",
    "if not upscaled_frames:\n",
    "    raise ValueError(\"❌ No upscaled frames found!\")\n",
    "first_frame = cv2.imread(upscaled_frames[0])\n",
    "height, width, _ = first_frame.shape\n",
    "upscaled_video_path = 'upscaled_video.mp4'\n",
    "fourcc = cv2.VideoWriter_fourcc(*'mp4v')\n",
    "fps = 24\n",
    "out = cv2.VideoWriter(upscaled_video_path, fourcc, fps, (width, height))\n",
    "for frame_path in upscaled_frames:\n",
    "    frame = cv2.imread(frame_path)\n",
    "    out.write(frame)\n",
    "out.release()\n",
    "print(f\"🎉 Video saved to: {upscaled_video_path}\")\n"
   ]
  },
  {
   "cell_type": "code",
   "execution_count": null,
   "id": "c04ce285",
   "metadata": {},
   "outputs": [],
   "source": [
    "#@title 🔊 Merge with Original Audio\n",
    "final_output = \"final_upscaled_with_audio.mp4\"\n",
    "!ffmpeg -y -i \"{upscaled_video_path}\" -i \"{video_path}\" -c copy -map 0:v:0 -map 1:a:0 -shortest \"{final_output}\"\n"
   ]
  },
  {
   "cell_type": "code",
   "execution_count": null,
   "id": "f1aca088",
   "metadata": {},
   "outputs": [],
   "source": [
    "#@title ▶️ Preview Final Video\n",
    "from IPython.display import Video\n",
    "Video(\"final_upscaled_with_audio.mp4\", embed=True, width=720)\n"
   ]
  },
  {
   "cell_type": "code",
   "execution_count": null,
   "id": "a08db762",
   "metadata": {},
   "outputs": [],
   "source": [
    "#@title 📥 Download Final Video\n",
    "from google.colab import files\n",
    "files.download(\"final_upscaled_with_audio.mp4\")\n"
   ]
  }
 ],
 "metadata": {},
 "nbformat": 4,
 "nbformat_minor": 5
}
