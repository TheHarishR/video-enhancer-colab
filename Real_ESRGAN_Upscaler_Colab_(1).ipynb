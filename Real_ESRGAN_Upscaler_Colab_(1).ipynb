{
  "cells": [
    {
      "cell_type": "markdown",
      "id": "496f8b86",
      "metadata": {
        "id": "496f8b86"
      },
      "source": [
        "# 🎥 Real-ESRGAN Video Upscaler\n",
        "This notebook allows you to upload a low-quality video, enhance it using Real-ESRGAN, and download the final version with audio preserved."
      ]
    },
    {
      "cell_type": "code",
      "source": [
        "# 📥 Download video from a provided URL (passed via ?video_url=...)\n",
        "import os, requests\n",
        "from urllib.parse import unquote\n",
        "from IPython.display import display, HTML\n",
        "\n",
        "# Get video_url from Colab params\n",
        "try:\n",
        "    from google.colab import output\n",
        "    from IPython import get_ipython\n",
        "    ipython = get_ipython()\n",
        "    video_url = ipython.getoutput(\"echo $video_url\")[0] if 'video_url' in os.environ else ''\n",
        "except:\n",
        "    video_url = ''\n",
        "\n",
        "if video_url:\n",
        "    video_url = unquote(video_url)\n",
        "    print(f\"Downloading from: {video_url}\")\n",
        "    response = requests.get(video_url, stream=True)\n",
        "    with open(\"input.mp4\", \"wb\") as f:\n",
        "        for chunk in response.iter_content(chunk_size=8192):\n",
        "            f.write(chunk)\n",
        "    print(\"✅ Downloaded video as input.mp4\")\n",
        "else:\n",
        "    print(\"⚠️ No video URL provided. Upload manually below if needed.\")"
      ],
      "metadata": {
        "id": "ytHeyu1sdQ3w"
      },
      "id": "ytHeyu1sdQ3w",
      "execution_count": null,
      "outputs": []
    },
    {
      "cell_type": "code",
      "execution_count": null,
      "id": "2d6007a6",
      "metadata": {
        "id": "2d6007a6"
      },
      "outputs": [],
      "source": [
        "#@title 🛠️ Setup\n",
        "!git clone https://github.com/xinntao/Real-ESRGAN.git\n",
        "%cd Real-ESRGAN\n",
        "!pip -q install basicsr facexlib gfpgan\n",
        "!pip -q install -r requirements.txt\n",
        "!python setup.py develop\n",
        "!pip install torch==2.1.0 torchvision==0.16.0 --index-url https://download.pytorch.org/whl/cu118\n",
        "!pip install \"numpy<2.0\"\n"
      ]
    },
    {
      "cell_type": "code",
      "execution_count": null,
      "id": "2143c710",
      "metadata": {
        "id": "2143c710"
      },
      "outputs": [],
      "source": [
        "#@title 📤 Upload Video\n",
        "from google.colab import files\n",
        "import shutil\n",
        "uploaded = files.upload()\n",
        "video_path = \"input.mp4\"\n",
        "for name in uploaded.keys():\n",
        "    shutil.move(name, video_path)\n",
        "print(f\"✅ Uploaded video saved as {video_path}\")\n"
      ]
    },
    {
      "cell_type": "code",
      "execution_count": null,
      "id": "be2c0a65",
      "metadata": {
        "id": "be2c0a65"
      },
      "outputs": [],
      "source": [
        "#@title 🖼️ Extract Frames\n",
        "import cv2, os\n",
        "frames_dir = 'input_frames'\n",
        "os.makedirs(frames_dir, exist_ok=True)\n",
        "cap = cv2.VideoCapture(video_path)\n",
        "frame_count = 0\n",
        "while cap.isOpened():\n",
        "    ret, frame = cap.read()\n",
        "    if not ret:\n",
        "        break\n",
        "    frame_path = os.path.join(frames_dir, f\"{frame_count:05d}.png\")\n",
        "    cv2.imwrite(frame_path, frame)\n",
        "    frame_count += 1\n",
        "cap.release()\n",
        "print(f\"🖼️ Extracted {frame_count} frames to '{frames_dir}'\")\n"
      ]
    },
    {
      "cell_type": "markdown",
      "id": "a710a72b",
      "metadata": {
        "id": "a710a72b"
      },
      "source": [
        "> ✅ Now manually run Real-ESRGAN on extracted frames OR set output folder below."
      ]
    },
    {
      "cell_type": "code",
      "source": [
        "#@title 🚀 Enhance Frames using Real-ESRGAN\n",
        "!python inference_realesrgan.py -n RealESRGAN_x4plus -i input_frames -o results\n"
      ],
      "metadata": {
        "id": "ooeaj4jB5yh0"
      },
      "id": "ooeaj4jB5yh0",
      "execution_count": null,
      "outputs": []
    },
    {
      "cell_type": "code",
      "execution_count": null,
      "id": "3d665f66",
      "metadata": {
        "id": "3d665f66"
      },
      "outputs": [],
      "source": [
        "#@title 🧪 Combine Upscaled Frames\n",
        "import glob\n",
        "output_folder = 'results'\n",
        "upscaled_frames = sorted(glob.glob(os.path.join(output_folder, '*.png')))\n",
        "if not upscaled_frames:\n",
        "    raise ValueError(\"❌ No upscaled frames found!\")\n",
        "first_frame = cv2.imread(upscaled_frames[0])\n",
        "height, width, _ = first_frame.shape\n",
        "upscaled_video_path = 'upscaled_video.mp4'\n",
        "fourcc = cv2.VideoWriter_fourcc(*'mp4v')\n",
        "fps = 24\n",
        "out = cv2.VideoWriter(upscaled_video_path, fourcc, fps, (width, height))\n",
        "for frame_path in upscaled_frames:\n",
        "    frame = cv2.imread(frame_path)\n",
        "    out.write(frame)\n",
        "out.release()\n",
        "print(f\"🎉 Video saved to: {upscaled_video_path}\")\n"
      ]
    },
    {
      "cell_type": "code",
      "execution_count": null,
      "id": "c04ce285",
      "metadata": {
        "id": "c04ce285"
      },
      "outputs": [],
      "source": [
        "#@title 🔊 Merge with Original Audio\n",
        "final_output = \"final_upscaled_with_audio.mp4\"\n",
        "!ffmpeg -y -i \"{upscaled_video_path}\" -i \"{video_path}\" -c copy -map 0:v:0 -map 1:a:0 -shortest \"{final_output}\"\n"
      ]
    },
    {
      "cell_type": "code",
      "execution_count": null,
      "id": "f1aca088",
      "metadata": {
        "id": "f1aca088"
      },
      "outputs": [],
      "source": [
        "# ✅ Final UI \"Popup\" Style Section\n",
        "from IPython.display import display, HTML\n",
        "\n",
        "html_popup = f\"\"\"\n",
        "<div style=\"border: 2px solid #4CAF50; border-radius: 10px; padding: 20px; background-color: #f9fff9; box-shadow: 0 4px 12px rgba(0,0,0,0.1); max-width: 700px; margin: 20px auto; font-family: sans-serif;\">\n",
        "  <h2 style=\"color: #2e7d32;\">✅ Enhancement Complete!</h2>\n",
        "  <p>Your enhanced video is ready. Preview it below or click to download:</p>\n",
        "  <video width=\"100%\" controls style=\"border-radius: 8px;\">\n",
        "    <source src=\"final_output.mp4\" type=\"video/mp4\">\n",
        "    Your browser does not support the video tag.\n",
        "  </video>\n",
        "  <br><br>\n",
        "  <a href=\"final_output.mp4\" download style=\"background-color: #4CAF50; color: white; padding: 10px 20px; text-decoration: none; border-radius: 5px; font-size: 16px;\">\n",
        "    📥 Download Enhanced Video\n",
        "  </a>\n",
        "</div>\n",
        "\"\"\"\n",
        "\n",
        "display(HTML(html_popup))\n"
      ]
    },
    {
      "cell_type": "code",
      "execution_count": null,
      "id": "a08db762",
      "metadata": {
        "id": "a08db762"
      },
      "outputs": [],
      "source": [
        "#@title 📥 Download Final Video\n",
        "from google.colab import files\n",
        "files.download(\"final_upscaled_with_audio.mp4\")\n"
      ]
    }
  ],
  "metadata": {
    "colab": {
      "provenance": []
    }
  },
  "nbformat": 4,
  "nbformat_minor": 5
}